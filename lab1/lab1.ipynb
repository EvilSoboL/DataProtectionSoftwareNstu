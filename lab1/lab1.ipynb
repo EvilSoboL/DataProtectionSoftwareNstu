{
 "cells": [
  {
   "cell_type": "code",
   "execution_count": 16,
   "id": "d7822aef-5226-487c-a7af-8b08358eeacb",
   "metadata": {},
   "outputs": [
    {
     "data": {
      "text/plain": [
       "b'aaaad1'"
      ]
     },
     "execution_count": 16,
     "metadata": {},
     "output_type": "execute_result"
    }
   ],
   "source": [
    "import os\n",
    "\n",
    "message = 'Штирлиц - Вы Герой!!'\n",
    "\n",
    "def convert_message_to_bytes(message: str) -> bytes:\n",
    "    if not isinstance(message, str):\n",
    "        raise TypeError(\"MESSAGE MUST BE A STRING!\")\n",
    "    return message.encode('windows-1251')\n",
    "\n",
    "\n",
    "convert_message_to_bytes('aaaad1')"
   ]
  },
  {
   "cell_type": "code",
   "execution_count": 14,
   "id": "1264dfad-4a45-498f-b837-3c1e5bbcdc21",
   "metadata": {},
   "outputs": [
    {
     "name": "stdout",
     "output_type": "stream",
     "text": [
      "<class 'str'>\n"
     ]
    }
   ],
   "source": [
    "text = \"Штирлиц - Вы Герой!!\"\n",
    "# Кодируем текст в байты с помощью Windows-1251\n",
    "bytes_data = text.encode('windows-1251')\n",
    "# Преобразуем байты в шестнадцатеричное представление\n",
    "hex_str = bytes_data.hex().upper()\n",
    "\n",
    "# Добавляем пробелы между байтами для читаемости\n",
    "hex_str_with_spaces = ' '.join(hex_str[i:i+2] for i in range(0, len(hex_str), 2))\n",
    "\n",
    "print(type(bytes_data.hex()))"
   ]
  },
  {
   "cell_type": "code",
   "execution_count": 31,
   "id": "57b29874-243e-4160-902b-e13e467751f9",
   "metadata": {},
   "outputs": [
    {
     "name": "stdout",
     "output_type": "stream",
     "text": [
      "5A0745FF2352438B107E460DFEF9F443FFE4F0B1\n"
     ]
    }
   ],
   "source": [
    "import os\n",
    "# Генерируем случайный ключ такой же длины\n",
    "random_key = os.urandom(len(bytes_data))\n",
    "\n",
    "# Преобразуем ключ в шестнадцатеричный формат для удобства\n",
    "hex_key = random_key.hex().upper()\n",
    "print(hex_key)"
   ]
  },
  {
   "cell_type": "code",
   "execution_count": null,
   "id": "f7634a6c-5e5b-4ea2-b28f-2c4ec19826ab",
   "metadata": {},
   "outputs": [],
   "source": []
  }
 ],
 "metadata": {
  "kernelspec": {
   "display_name": "Python 3 (ipykernel)",
   "language": "python",
   "name": "python3"
  },
  "language_info": {
   "codemirror_mode": {
    "name": "ipython",
    "version": 3
   },
   "file_extension": ".py",
   "mimetype": "text/x-python",
   "name": "python",
   "nbconvert_exporter": "python",
   "pygments_lexer": "ipython3",
   "version": "3.12.3"
  }
 },
 "nbformat": 4,
 "nbformat_minor": 5
}
